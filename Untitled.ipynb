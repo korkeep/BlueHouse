{
 "cells": [
  {
   "cell_type": "markdown",
   "metadata": {},
   "source": [
    "<h1>초기화"
   ]
  },
  {
   "cell_type": "code",
   "execution_count": 76,
   "metadata": {},
   "outputs": [],
   "source": [
    "#폴더 만들기, 메타데이터 획득\n",
    "import os\n",
    "import time\n",
    "import io\n",
    "def initialization():\n",
    "    start_num=584274\n",
    "    tmp=time.localtime()\n",
    "    now_year=int(tmp.tm_year)\n",
    "    now_month=int(tmp.tm_mon)\n",
    "    for j in range(2020,now_year+1):\n",
    "        for i in range(1,now_month+1):\n",
    "            folder_name='raw/%04d/%02d'%(j,i)\n",
    "            try:\n",
    "                if not(os.path.isdir('raw/%04d/%02d'%(j,i))):\n",
    "                    os.makedirs(os.path.join('raw/%04d/%02d'%(j,i)))\n",
    "            except OSError as e:\n",
    "                if e.errno != errno.EEXIST:\n",
    "                    print(\"Failed to create directory!!!!!\")\n",
    "                    raise\n",
    "    try:                \n",
    "        with open('raw/data.txt','r') as metadata:\n",
    "            for line in metadata:\n",
    "                start_num = int(line.strip())\n",
    "                break\n",
    "    except:\n",
    "        pass"
   ]
  },
  {
   "cell_type": "markdown",
   "metadata": {},
   "source": [
    "<h1>정보 얻어오기"
   ]
  },
  {
   "cell_type": "code",
   "execution_count": 74,
   "metadata": {},
   "outputs": [
    {
     "name": "stdout",
     "output_type": "stream",
     "text": [
      "584489 까지 정보를 받아옴\n"
     ]
    }
   ],
   "source": [
    "from petitions_scraper import parse_page\n",
    "import json\n",
    "\n",
    "try:\n",
    "    while(1):\n",
    "        url='https://www1.president.go.kr/petitions/{}'.format(start_num)\n",
    "        raw_data=parse_page(url)\n",
    "        data_year=(raw_data['begin'])[0:4]\n",
    "        data_month=(raw_data['begin'])[5:7]\n",
    "        #파일 쓰기\n",
    "        with open('raw/{}/{}/data_{}.json'.format(data_year,data_month,start_num),'w',encoding='utf-8') as outfile:\n",
    "            json.dump(raw_data,outfile,ensure_ascii=False,indent=4)\n",
    "        start_num = start_num + 1\n",
    "except:\n",
    "    print(start_num-1,'까지 정보를 받아옴')\n",
    "    with open('raw/data.txt','w') as metadata:\n",
    "        metadata.write(str(start_num))"
   ]
  }
 ],
 "metadata": {
  "kernelspec": {
   "display_name": "Python 3",
   "language": "python",
   "name": "python3"
  },
  "language_info": {
   "codemirror_mode": {
    "name": "ipython",
    "version": 3
   },
   "file_extension": ".py",
   "mimetype": "text/x-python",
   "name": "python",
   "nbconvert_exporter": "python",
   "pygments_lexer": "ipython3",
   "version": "3.7.6"
  }
 },
 "nbformat": 4,
 "nbformat_minor": 4
}
